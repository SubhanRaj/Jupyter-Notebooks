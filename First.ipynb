{
 "cells": [
  {
   "cell_type": "markdown",
   "source": [
    "# My First Jupyter Notebook\n",
    "\n",
    "- Jupyter is amazing.\n"
   ],
   "metadata": {}
  },
  {
   "cell_type": "code",
   "execution_count": null,
   "source": [
    "<!-- First Jupyter HTML Notebook -->\n",
    "<html>\n",
    "<head>\n",
    "    <title>My First Jupyter Notebook</title>\n",
    "</head>\n",
    "<body>\n",
    "    <h1>Hello, world!</h1>\n",
    "    <p>This is my first Jupyter Notebook.</p>\n",
    "</body>\n",
    "</html>"
   ],
   "outputs": [],
   "metadata": {}
  }
 ],
 "metadata": {
  "orig_nbformat": 4,
  "language_info": {
   "name": "python",
   "version": "3.9.5",
   "mimetype": "text/x-python",
   "codemirror_mode": {
    "name": "ipython",
    "version": 3
   },
   "pygments_lexer": "ipython3",
   "nbconvert_exporter": "python",
   "file_extension": ".py"
  },
  "kernelspec": {
   "name": "python3",
   "display_name": "Python 3.9.5 64-bit"
  },
  "interpreter": {
   "hash": "31f2aee4e71d21fbe5cf8b01ff0e069b9275f58929596ceb00d14d90e3e16cd6"
  }
 },
 "nbformat": 4,
 "nbformat_minor": 2
}